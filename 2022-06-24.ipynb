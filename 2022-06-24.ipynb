{
 "cells": [
  {
   "cell_type": "code",
   "execution_count": 14,
   "source": [
    "import pandas as pd\r\n",
    "import numpy as np\r\n",
    "\r\n",
    "class ind_place:\r\n",
    "    def __init__(self):\r\n",
    "        self.data = pd.read_csv('Places.csv')['Places']\r\n",
    "        self.data_list = np.unique([i.lower() for i in self.data])\r\n",
    "        print(\"__Data loaded__\")\r\n",
    "\r\n",
    "    def check(self, place):\r\n",
    "        \"\"\"check if the word is a city from India\"\"\"\r\n",
    "        return True if place.lower() in self.data_list else False\r\n",
    "\r\n",
    "    def add_place(self, new_places_list):\r\n",
    "        \"\"\"add new place names to the existing list\"\"\"\r\n",
    "        pass\r\n"
   ],
   "outputs": [],
   "metadata": {}
  },
  {
   "cell_type": "code",
   "execution_count": 15,
   "source": [
    "c = ind_place()\r\n",
    "# c.data\r\n",
    "print(c.check('pune'))\r\n"
   ],
   "outputs": [
    {
     "output_type": "stream",
     "name": "stdout",
     "text": [
      "__Data loaded__\n",
      "True\n"
     ]
    }
   ],
   "metadata": {}
  },
  {
   "cell_type": "code",
   "execution_count": null,
   "source": [],
   "outputs": [],
   "metadata": {}
  },
  {
   "cell_type": "code",
   "execution_count": null,
   "source": [
    "# import re\r\n",
    "# for i in range(len(data)):\r\n",
    "#     # data[i] = [re.sub(\"\\s+\",\"\",i.strip(')')) for i in data[i].split('(')]\r\n",
    "#     data[i] = [' '.join(i.strip(')').split()) for i in data[i].split('(')]\r\n",
    "# data = sum(data, [])\r\n",
    "# data\r\n"
   ],
   "outputs": [],
   "metadata": {}
  },
  {
   "cell_type": "code",
   "execution_count": null,
   "source": [],
   "outputs": [],
   "metadata": {}
  }
 ],
 "metadata": {
  "orig_nbformat": 4,
  "language_info": {
   "name": "python",
   "version": "3.9.6",
   "mimetype": "text/x-python",
   "codemirror_mode": {
    "name": "ipython",
    "version": 3
   },
   "pygments_lexer": "ipython3",
   "nbconvert_exporter": "python",
   "file_extension": ".py"
  },
  "kernelspec": {
   "name": "python3",
   "display_name": "Python 3.9.6 64-bit"
  },
  "interpreter": {
   "hash": "2b215b4b3ff72a62515a054be5cd435dcd530f8c8bb3b4b66071f63b23803fb8"
  }
 },
 "nbformat": 4,
 "nbformat_minor": 2
}